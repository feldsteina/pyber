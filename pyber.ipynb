{
 "cells": [
  {
   "cell_type": "code",
   "execution_count": 1,
   "metadata": {},
   "outputs": [
    {
     "name": "stdout",
     "output_type": "stream",
     "text": [
      "Urban\n",
      "Suburban\n",
      "Rural\n",
      "0\n",
      "1\n",
      "2\n"
     ]
    },
    {
     "data": {
      "text/html": [
       "<div>\n",
       "<style scoped>\n",
       "    .dataframe tbody tr th:only-of-type {\n",
       "        vertical-align: middle;\n",
       "    }\n",
       "\n",
       "    .dataframe tbody tr th {\n",
       "        vertical-align: top;\n",
       "    }\n",
       "\n",
       "    .dataframe thead th {\n",
       "        text-align: right;\n",
       "    }\n",
       "</style>\n",
       "<table border=\"1\" class=\"dataframe\">\n",
       "  <thead>\n",
       "    <tr style=\"text-align: right;\">\n",
       "      <th></th>\n",
       "      <th>city</th>\n",
       "      <th>driver_count</th>\n",
       "      <th>type</th>\n",
       "      <th>date</th>\n",
       "      <th>fare</th>\n",
       "      <th>ride_id</th>\n",
       "      <th>city_type_name</th>\n",
       "    </tr>\n",
       "  </thead>\n",
       "  <tbody>\n",
       "    <tr>\n",
       "      <th>0</th>\n",
       "      <td>Richardfort</td>\n",
       "      <td>38</td>\n",
       "      <td>0</td>\n",
       "      <td>2018-02-24 08:40:38</td>\n",
       "      <td>13.93</td>\n",
       "      <td>5628545007794</td>\n",
       "      <td>Urban</td>\n",
       "    </tr>\n",
       "    <tr>\n",
       "      <th>1</th>\n",
       "      <td>Richardfort</td>\n",
       "      <td>38</td>\n",
       "      <td>0</td>\n",
       "      <td>2018-02-13 12:46:07</td>\n",
       "      <td>14.00</td>\n",
       "      <td>910050116494</td>\n",
       "      <td>Urban</td>\n",
       "    </tr>\n",
       "    <tr>\n",
       "      <th>2</th>\n",
       "      <td>Richardfort</td>\n",
       "      <td>38</td>\n",
       "      <td>0</td>\n",
       "      <td>2018-02-16 13:52:19</td>\n",
       "      <td>17.92</td>\n",
       "      <td>820639054416</td>\n",
       "      <td>Urban</td>\n",
       "    </tr>\n",
       "    <tr>\n",
       "      <th>3</th>\n",
       "      <td>Richardfort</td>\n",
       "      <td>38</td>\n",
       "      <td>0</td>\n",
       "      <td>2018-02-01 20:18:28</td>\n",
       "      <td>10.26</td>\n",
       "      <td>9554935945413</td>\n",
       "      <td>Urban</td>\n",
       "    </tr>\n",
       "    <tr>\n",
       "      <th>4</th>\n",
       "      <td>Richardfort</td>\n",
       "      <td>38</td>\n",
       "      <td>0</td>\n",
       "      <td>2018-04-17 02:26:37</td>\n",
       "      <td>23.00</td>\n",
       "      <td>720020655850</td>\n",
       "      <td>Urban</td>\n",
       "    </tr>\n",
       "  </tbody>\n",
       "</table>\n",
       "</div>"
      ],
      "text/plain": [
       "          city  driver_count  type                 date   fare        ride_id  \\\n",
       "0  Richardfort            38     0  2018-02-24 08:40:38  13.93  5628545007794   \n",
       "1  Richardfort            38     0  2018-02-13 12:46:07  14.00   910050116494   \n",
       "2  Richardfort            38     0  2018-02-16 13:52:19  17.92   820639054416   \n",
       "3  Richardfort            38     0  2018-02-01 20:18:28  10.26  9554935945413   \n",
       "4  Richardfort            38     0  2018-04-17 02:26:37  23.00   720020655850   \n",
       "\n",
       "  city_type_name  \n",
       "0          Urban  \n",
       "1          Urban  \n",
       "2          Urban  \n",
       "3          Urban  \n",
       "4          Urban  "
      ]
     },
     "execution_count": 1,
     "metadata": {},
     "output_type": "execute_result"
    }
   ],
   "source": [
    "import os.path as path\n",
    "import numpy as np\n",
    "import pandas as pd\n",
    "import matplotlib.pyplot as plt\n",
    "import matplotlib.cm as cm\n",
    "import matplotlib.colors as colors\n",
    "import matplotlib.patches as mpatches\n",
    "%matplotlib inline\n",
    "# Dependencies and Setup\n",
    "\n",
    "# File to Load (Remember to change these)\n",
    "city_file = path.join(\"data\", \"city_data.csv\")\n",
    "ride_file = path.join(\"data\", \"ride_data.csv\")\n",
    "\n",
    "# Read the City and Ride Data\n",
    "city_df = pd.read_csv(city_file)\n",
    "ride_df = pd.read_csv(ride_file)\n",
    "\n",
    "# Combine the data into a single dataset\n",
    "pyber_df = pd.merge(city_df, ride_df, on=\"city\", how=\"inner\")\n",
    "\n",
    "# Change city type to number, add city type name column\n",
    "pyber_df[\"city_type_name\"] = pyber_df[\"type\"]\n",
    "\n",
    "city_type_names = []\n",
    "\n",
    "for items in pyber_df.city_type_name.unique():\n",
    "    city_type_names.append(items)\n",
    "    print(items)\n",
    "\n",
    "city_type_cnt = pyber_df[\"city_type_name\"].nunique()\n",
    "\n",
    "value_list = []\n",
    "\n",
    "for i in range(city_type_cnt):\n",
    "    value_list.append(i)\n",
    "    print(i)\n",
    "\n",
    "pyber_df[\"type\"].replace(to_replace=city_type_names,\n",
    "                         inplace=True,\n",
    "                         value=value_list)\n",
    "\n",
    "# Display the data table for preview\n",
    "pyber_df.head()\n"
   ]
  },
  {
   "cell_type": "code",
   "execution_count": 2,
   "metadata": {},
   "outputs": [
    {
     "data": {
      "text/html": [
       "<div>\n",
       "<style scoped>\n",
       "    .dataframe tbody tr th:only-of-type {\n",
       "        vertical-align: middle;\n",
       "    }\n",
       "\n",
       "    .dataframe tbody tr th {\n",
       "        vertical-align: top;\n",
       "    }\n",
       "\n",
       "    .dataframe thead th {\n",
       "        text-align: right;\n",
       "    }\n",
       "</style>\n",
       "<table border=\"1\" class=\"dataframe\">\n",
       "  <thead>\n",
       "    <tr style=\"text-align: right;\">\n",
       "      <th></th>\n",
       "      <th>city</th>\n",
       "      <th>driver_count</th>\n",
       "      <th>type</th>\n",
       "      <th>fare</th>\n",
       "      <th>ride_count</th>\n",
       "      <th>city_type</th>\n",
       "      <th>city_type_name</th>\n",
       "    </tr>\n",
       "  </thead>\n",
       "  <tbody>\n",
       "    <tr>\n",
       "      <th>0</th>\n",
       "      <td>Amandaburgh</td>\n",
       "      <td>12.0</td>\n",
       "      <td>0.0</td>\n",
       "      <td>24.64</td>\n",
       "      <td>18</td>\n",
       "      <td>0</td>\n",
       "      <td>Urban</td>\n",
       "    </tr>\n",
       "    <tr>\n",
       "      <th>1</th>\n",
       "      <td>Barajasview</td>\n",
       "      <td>26.0</td>\n",
       "      <td>0.0</td>\n",
       "      <td>25.33</td>\n",
       "      <td>22</td>\n",
       "      <td>0</td>\n",
       "      <td>Urban</td>\n",
       "    </tr>\n",
       "    <tr>\n",
       "      <th>2</th>\n",
       "      <td>Barronchester</td>\n",
       "      <td>11.0</td>\n",
       "      <td>1.0</td>\n",
       "      <td>36.42</td>\n",
       "      <td>16</td>\n",
       "      <td>1</td>\n",
       "      <td>Suburban</td>\n",
       "    </tr>\n",
       "    <tr>\n",
       "      <th>3</th>\n",
       "      <td>Bethanyland</td>\n",
       "      <td>22.0</td>\n",
       "      <td>1.0</td>\n",
       "      <td>32.96</td>\n",
       "      <td>18</td>\n",
       "      <td>1</td>\n",
       "      <td>Suburban</td>\n",
       "    </tr>\n",
       "    <tr>\n",
       "      <th>4</th>\n",
       "      <td>Bradshawfurt</td>\n",
       "      <td>7.0</td>\n",
       "      <td>2.0</td>\n",
       "      <td>40.06</td>\n",
       "      <td>10</td>\n",
       "      <td>2</td>\n",
       "      <td>Rural</td>\n",
       "    </tr>\n",
       "  </tbody>\n",
       "</table>\n",
       "</div>"
      ],
      "text/plain": [
       "            city  driver_count  type   fare  ride_count  city_type  \\\n",
       "0    Amandaburgh          12.0   0.0  24.64          18          0   \n",
       "1    Barajasview          26.0   0.0  25.33          22          0   \n",
       "2  Barronchester          11.0   1.0  36.42          16          1   \n",
       "3    Bethanyland          22.0   1.0  32.96          18          1   \n",
       "4   Bradshawfurt           7.0   2.0  40.06          10          2   \n",
       "\n",
       "  city_type_name  \n",
       "0          Urban  \n",
       "1          Urban  \n",
       "2       Suburban  \n",
       "3       Suburban  \n",
       "4          Rural  "
      ]
     },
     "execution_count": 2,
     "metadata": {},
     "output_type": "execute_result"
    }
   ],
   "source": [
    "averages_df = pyber_df.groupby([\"city\"], as_index=False).mean()\n",
    "\n",
    "averages_df[\"ride_count\"] = pyber_df.groupby([\"city\"])\\\n",
    "    .count()[\"ride_id\"].tolist()\n",
    "\n",
    "averages_df[\"driver_count\"] = pyber_df.groupby([\"city\"])\\\n",
    "    .median()[\"driver_count\"].tolist()\n",
    "\n",
    "averages_df[\"city_type\"] = pyber_df.groupby([\"city\"])\\\n",
    "    .first()[\"type\"].tolist()\n",
    "\n",
    "averages_df[\"city_type_name\"] = pyber_df.groupby([\"city\"])\\\n",
    "    .first()[\"city_type_name\"].tolist()\n",
    "\n",
    "averages_df.drop(labels=[\"ride_id\"], axis=1, inplace=True)\n",
    "\n",
    "averages_df[\"fare\"] = averages_df[\"fare\"].round(2)\n",
    "\n",
    "averages_df.head()\n",
    "\n"
   ]
  },
  {
   "cell_type": "markdown",
   "metadata": {},
   "source": [
    " ## Bubble Plot of Ride Sharing Data"
   ]
  },
  {
   "cell_type": "code",
   "execution_count": 3,
   "metadata": {},
   "outputs": [],
   "source": [
    "# Build a colormap\n",
    "\n",
    "cmap = [\"gold\", \"lightblue\", \"coral\"]\n",
    "\n",
    "cmapList = [cmap[i] for i in range(city_type_cnt)]\n",
    "\n",
    "cmap = colors.LinearSegmentedColormap.from_list(\n",
    "    \"customCmap\", cmapList, city_type_cnt)\n",
    "\n",
    "cmapList = [cmap(i) for i in range(city_type_cnt)]\n",
    "\n",
    "patch_data = []\n",
    "\n",
    "for i in range(city_type_cnt):\n",
    "    for items in city_type_names:\n",
    "        patch_data.append(\n",
    "            mpatches.Patch(\n",
    "                color=cmapList[i], label=city_type_names[i]\n",
    "            )\n",
    "        )\n",
    "        break\n"
   ]
  },
  {
   "cell_type": "code",
   "execution_count": 4,
   "metadata": {},
   "outputs": [
    {
     "data": {
      "image/png": "[encoded data removed]",
      "text/plain": [
       "<Figure size 432x288 with 1 Axes>"
      ]
     },
     "metadata": {
      "needs_background": "light"
     },
     "output_type": "display_data"
    }
   ],
   "source": [
    "# Obtain the x and y coordinates for each of the three city types\n",
    "x = averages_df[\"driver_count\"]\n",
    "y = averages_df[\"fare\"]\n",
    "s = [n**2 for n in averages_df[\"ride_count\"]]\n",
    "city_pop = averages_df[\"city_type\"]\n",
    "\n",
    "# Build the scatter plots for each city types\n",
    "plt.scatter(x, y, s=s, c=city_pop, alpha=0.3, cmap=cmap)\n",
    "\n",
    "# Incorporate the other graph properties\n",
    "\n",
    "# Create a legend\n",
    "\n",
    "# Incorporate a text label regarding circle size\n",
    "# plt.labels(\"Bigger circle = more fares\")\n",
    "plt.xlabel(\"Number of drivers per city\")\n",
    "plt.ylabel(\"Average fare per city\")\n",
    "plt.title(\"Average fare vs number of drivers per city\")\n",
    "plt.text(20, 41, \"Bigger circle = more fares\")\n",
    "plt.legend(handles=patch_data)\n",
    "\n",
    "# Save Figure\n",
    "plt.savefig(\"bubble.png\")\n",
    "plt.show()\n"
   ]
  },
  {
   "cell_type": "markdown",
   "metadata": {},
   "source": [
    " ## Total Fares by City Type"
   ]
  },
  {
   "cell_type": "code",
   "execution_count": 5,
   "metadata": {},
   "outputs": [
    {
     "name": "stdout",
     "output_type": "stream",
     "text": [
      "63\n",
      "30\n",
      "7\n"
     ]
    }
   ],
   "source": [
    "# Calculate Type Percents\n",
    "city_fare_pct = []\n",
    "\n",
    "for i in range(city_type_cnt):\n",
    "    city_fare_pct.append(\n",
    "        int(\n",
    "            round(\n",
    "                pyber_df.loc[\n",
    "                    pyber_df.type == i, [\"fare\"]\n",
    "                ].sum() /\n",
    "                pyber_df.fare.sum(), 2\n",
    "            ) * 100\n",
    "        )\n",
    "    )\n",
    "\n",
    "for items in city_fare_pct:\n",
    "    print(items)\n"
   ]
  },
  {
   "cell_type": "code",
   "execution_count": 6,
   "metadata": {},
   "outputs": [
    {
     "data": {
      "image/png": "[encoded data removed]",
      "text/plain": [
       "<Figure size 432x288 with 1 Axes>"
      ]
     },
     "metadata": {},
     "output_type": "display_data"
    }
   ],
   "source": [
    "# Build Pie Chart\n",
    "x = city_fare_pct\n",
    "\n",
    "plt.pie(x, labels=city_type_names, colors=cmapList, autopct=\"%.2f\")\n",
    "\n",
    "plt.xlabel(\"% Fares by City Type\")\n",
    "plt.legend()\n",
    "\n",
    "plt.savefig(\"fares_pie.png\")\n",
    "plt.show()\n"
   ]
  },
  {
   "cell_type": "markdown",
   "metadata": {},
   "source": [
    " ## Total Rides by City Type"
   ]
  },
  {
   "cell_type": "code",
   "execution_count": 7,
   "metadata": {},
   "outputs": [
    {
     "name": "stdout",
     "output_type": "stream",
     "text": [
      "68\n",
      "26\n",
      "5\n"
     ]
    }
   ],
   "source": [
    "# Calculate Ride Percents\n",
    "city_total_rides_pct = []\n",
    "\n",
    "for i in range(city_type_cnt):\n",
    "    city_total_rides_pct.append(\n",
    "        int(\n",
    "            round(\n",
    "                averages_df.loc[\n",
    "                    averages_df.city_type == i, [\"ride_count\"]\n",
    "                ].sum() / averages_df[\"ride_count\"].sum(), 2\n",
    "            ) * 100\n",
    "        )\n",
    "    )\n",
    "\n",
    "for items in city_total_rides_pct:\n",
    "    print(items)\n"
   ]
  },
  {
   "cell_type": "code",
   "execution_count": 8,
   "metadata": {},
   "outputs": [
    {
     "data": {
      "image/png": "[encoded data removed]",
      "text/plain": [
       "<Figure size 432x288 with 1 Axes>"
      ]
     },
     "metadata": {},
     "output_type": "display_data"
    }
   ],
   "source": [
    "# Build Pie Chart\n",
    "x = city_total_rides_pct\n",
    "\n",
    "plt.pie(x, labels=city_type_names, colors=cmapList, autopct=\"%.2f\")\n",
    "plt.xlabel(\"% Rides by City Type\")\n",
    "\n",
    "plt.legend()\n",
    "\n",
    "plt.savefig(\"rides_pie.png\")\n",
    "plt.show()\n"
   ]
  },
  {
   "cell_type": "markdown",
   "metadata": {},
   "source": [
    " ## Total Drivers by City Type"
   ]
  },
  {
   "cell_type": "code",
   "execution_count": 9,
   "metadata": {},
   "outputs": [
    {
     "name": "stdout",
     "output_type": "stream",
     "text": [
      "81\n",
      "16\n",
      "3\n"
     ]
    }
   ],
   "source": [
    "# Calculate Driver Percents\n",
    "city_driver_pct = []\n",
    "\n",
    "for i in range(city_type_cnt):\n",
    "    city_driver_pct.append(\n",
    "        int(\n",
    "            round(\n",
    "                averages_df.loc[\n",
    "                    averages_df[\"city_type\"] == i, [\"driver_count\"]\n",
    "                ].sum() / averages_df[\"driver_count\"].sum(), 2\n",
    "            ) * 100\n",
    "        )\n",
    "    )\n",
    "\n",
    "for items in city_driver_pct:\n",
    "    print(items)\n"
   ]
  },
  {
   "cell_type": "code",
   "execution_count": 10,
   "metadata": {},
   "outputs": [
    {
     "data": {
      "image/png": "[encoded data removed]",
      "text/plain": [
       "<Figure size 432x288 with 1 Axes>"
      ]
     },
     "metadata": {},
     "output_type": "display_data"
    }
   ],
   "source": [
    "# Build Pie Charts\n",
    "x = city_driver_pct\n",
    "\n",
    "plt.pie(x, labels=city_type_names, colors=cmapList, autopct=\"%.2f\")\n",
    "plt.xlabel(\"% Drivers by City Type\")\n",
    "plt.legend()\n",
    "\n",
    "plt.savefig(\"drivers_pie.png\")\n",
    "plt.show()\n"
   ]
  },
  {
   "cell_type": "markdown",
   "metadata": {},
   "source": [
    " ## Observations\n",
    " 1. Most of the drivers, rides, and fares are in Urban locations\n",
    " 2. Urban areas have more drivers than they have rides\n",
    " 3. Suburban areas have more rides than they have drivers"
   ]
  }
 ],
 "metadata": {
  "file_extension": ".py",
  "kernelspec": {
   "display_name": "Python 3",
   "language": "python",
   "name": "python3"
  },
  "language_info": {
   "codemirror_mode": {
    "name": "ipython",
    "version": 3
   },
   "file_extension": ".py",
   "mimetype": "text/x-python",
   "name": "python",
   "nbconvert_exporter": "python",
   "pygments_lexer": "ipython3",
   "version": "3.6.7"
  },
  "mimetype": "text/x-python",
  "name": "python",
  "npconvert_exporter": "python",
  "pygments_lexer": "ipython3",
  "version": 3
 },
 "nbformat": 4,
 "nbformat_minor": 2
}
